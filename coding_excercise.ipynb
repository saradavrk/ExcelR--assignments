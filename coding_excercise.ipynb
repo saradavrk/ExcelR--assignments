{
  "nbformat": 4,
  "nbformat_minor": 0,
  "metadata": {
    "colab": {
      "provenance": []
    },
    "kernelspec": {
      "name": "python3",
      "display_name": "Python 3"
    },
    "language_info": {
      "name": "python"
    }
  },
  "cells": [
    {
      "cell_type": "code",
      "source": [
        "def is_prime(number):\n",
        "  if number <=1:\n",
        "    return False\n",
        "  for i in range(2, int(number **0.5)+1):\n",
        "     if number % i == 0:\n",
        "      return False\n",
        "  return True\n",
        "  number = int(input(\"Enter a number: \"))\n",
        "  if is_prime(number):\n",
        "    print(number, \"is a prime number.\")\n",
        "  else:\n",
        "    print(number, \"is not a prime number.\")\n"
      ],
      "metadata": {
        "id": "YQ0YcsGRPnuT"
      },
      "execution_count": 6,
      "outputs": []
    },
    {
      "cell_type": "code",
      "source": [
        " number = int(input(\"Enter a number:\"))\n",
        " if is_prime(number):\n",
        "    print(number, \"is a prime number.\")\n",
        " else:\n",
        "    print(number, \"is not a prime number.\")"
      ],
      "metadata": {
        "colab": {
          "base_uri": "https://localhost:8080/"
        },
        "id": "Wdgtytd-Sy6b",
        "outputId": "c91bd90e-b20c-44c4-8ae5-a2291badd1dc"
      },
      "execution_count": 7,
      "outputs": [
        {
          "output_type": "stream",
          "name": "stdout",
          "text": [
            "Enter a number:5\n",
            "5 is a prime number.\n"
          ]
        }
      ]
    },
    {
      "cell_type": "code",
      "source": [
        " number = int(input(\"Enter a number:\"))\n",
        " if is_prime(number):\n",
        "    print(number, \"is a prime number.\")\n",
        " else:\n",
        "    print(number, \"is not a prime number.\")"
      ],
      "metadata": {
        "colab": {
          "base_uri": "https://localhost:8080/"
        },
        "id": "O86JwMijT7je",
        "outputId": "6c0a7518-6795-4f3b-9a92-0bf5e422c472"
      },
      "execution_count": 8,
      "outputs": [
        {
          "output_type": "stream",
          "name": "stdout",
          "text": [
            "Enter a number:48\n",
            "48 is not a prime number.\n"
          ]
        }
      ]
    },
    {
      "cell_type": "markdown",
      "source": [
        "#Exercise 2: Product of Random Numbers\n",
        "#Develop a Python program that generates two random numbers and asks the user to enter the product of these numbers. The program should then check if the user's answer is correct and display an appropriate message."
      ],
      "metadata": {
        "id": "fcailrdursSc"
      }
    },
    {
      "cell_type": "code",
      "source": [
        "\n",
        "import random\n",
        "\n",
        "def generate_random_numbers():\n",
        "    \"\"\"Generate two random integers between 1 and 100.\"\"\"\n",
        "    num1 = random.randint(1, 100)\n",
        "    num2 = random.randint(1, 100)\n",
        "    return num1, num2\n",
        "\n",
        "def main():\n",
        "    # Generate two random numbers\n",
        "    num1, num2 = generate_random_numbers()\n",
        "\n",
        "    # Calculate the correct product\n",
        "    correct_product = num1 * num2\n",
        "\n",
        "    # Prompt the user to enter the product\n",
        "    print(f\"Please multiply the following numbers: {num1} and {num2}\")\n",
        "    user_input = input(\"Enter the product: \")\n",
        "\n",
        "    # Check if the user's input is correct\n",
        "    try:\n",
        "        user_product = int(user_input)\n",
        "        if user_product == correct_product:\n",
        "            print(\"Correct! Well done.\")\n",
        "        else:\n",
        "            print(f\"Incorrect. The correct product is {correct_product}.\")\n",
        "    except ValueError:\n",
        "        print(\"Invalid input. Please enter a valid integer.\")\n",
        "\n",
        "if __name__ == \"__main__\":\n",
        "    main()\n",
        ""
      ],
      "metadata": {
        "id": "xDogxd9RUmTH",
        "colab": {
          "base_uri": "https://localhost:8080/"
        },
        "outputId": "65ca950d-9c3d-4275-de53-57b48ba65bcf"
      },
      "execution_count": 1,
      "outputs": [
        {
          "output_type": "stream",
          "name": "stdout",
          "text": [
            "Please multiply the following numbers: 62 and 14\n",
            "Enter the product: 868\n",
            "Correct! Well done.\n"
          ]
        }
      ]
    },
    {
      "cell_type": "code",
      "source": [
        "# incorrect\n",
        "import random\n",
        "\n",
        "def generate_random_numbers():\n",
        "    \"\"\"Generate two random integers between 1 and 100.\"\"\"\n",
        "    num1 = random.randint(1, 100)\n",
        "    num2 = random.randint(1, 100)\n",
        "    return num1, num2\n",
        "\n",
        "def main():\n",
        "    # Generate two random numbers\n",
        "    num1, num2 = generate_random_numbers()\n",
        "\n",
        "    # Calculate the correct product\n",
        "    correct_product = num1 * num2\n",
        "\n",
        "    # Prompt the user to enter the product\n",
        "    print(f\"Please multiply the following numbers: {num1} and {num2}\")\n",
        "    user_input = input(\"Enter the product: \")\n",
        "\n",
        "    # Check if the user's input is correct\n",
        "    try:\n",
        "        user_product = int(user_input)\n",
        "        if user_product == correct_product:\n",
        "            print(\"Correct! Well done.\")\n",
        "        else:\n",
        "            print(f\"Incorrect. The correct product is {correct_product}.\")\n",
        "    except ValueError:\n",
        "        print(\"Invalid input. Please enter a valid integer.\")\n",
        "\n",
        "if __name__ == \"__main__\":\n",
        "    main()"
      ],
      "metadata": {
        "colab": {
          "base_uri": "https://localhost:8080/"
        },
        "id": "eYYFoX52dItV",
        "outputId": "32c88a5e-7c32-40e3-d0ce-473f07755dc4"
      },
      "execution_count": 2,
      "outputs": [
        {
          "output_type": "stream",
          "name": "stdout",
          "text": [
            "Please multiply the following numbers: 15 and 53\n",
            "Enter the product: 765\n",
            "Incorrect. The correct product is 795.\n"
          ]
        }
      ]
    },
    {
      "cell_type": "markdown",
      "source": [
        "Exercise 3: Squares of Even/Odd Numbers\n",
        "Create a Python script that prints the squares of all even or odd numbers within the range of 100 to 200. Choose either even or odd numbers and document your choice in the code.\n"
      ],
      "metadata": {
        "id": "wfigghwlnxzt"
      }
    },
    {
      "cell_type": "code",
      "source": [
        "\n",
        "def print_even_squares(start, end):\n",
        "    \"\"\"Print the squares of all even numbers within the given range.\n",
        "\n",
        "    Args:\n",
        "        start (int): The starting number of the range.\n",
        "        end (int): The ending number of the range.\n",
        "    \"\"\"\n",
        "    for number in range(start, end + 1):\n",
        "        if number % 2 == 0:  # Check if the number is even\n",
        "            print(f\"The square of {number} is {number**2}\")\n",
        "\n",
        "def main():\n",
        "    # Define the range\n",
        "    start = 100\n",
        "    end = 200\n",
        "\n",
        "    # Print squares of even numbers in the specified range\n",
        "    print_even_squares(start, end)\n",
        "\n",
        "if __name__ == \"__main__\":\n",
        "    main()\n",
        ""
      ],
      "metadata": {
        "colab": {
          "base_uri": "https://localhost:8080/"
        },
        "id": "mtLB3ij1nw7t",
        "outputId": "ca8416ef-54f5-4fab-ad17-cdf6b1015e65"
      },
      "execution_count": 3,
      "outputs": [
        {
          "output_type": "stream",
          "name": "stdout",
          "text": [
            "The square of 100 is 10000\n",
            "The square of 102 is 10404\n",
            "The square of 104 is 10816\n",
            "The square of 106 is 11236\n",
            "The square of 108 is 11664\n",
            "The square of 110 is 12100\n",
            "The square of 112 is 12544\n",
            "The square of 114 is 12996\n",
            "The square of 116 is 13456\n",
            "The square of 118 is 13924\n",
            "The square of 120 is 14400\n",
            "The square of 122 is 14884\n",
            "The square of 124 is 15376\n",
            "The square of 126 is 15876\n",
            "The square of 128 is 16384\n",
            "The square of 130 is 16900\n",
            "The square of 132 is 17424\n",
            "The square of 134 is 17956\n",
            "The square of 136 is 18496\n",
            "The square of 138 is 19044\n",
            "The square of 140 is 19600\n",
            "The square of 142 is 20164\n",
            "The square of 144 is 20736\n",
            "The square of 146 is 21316\n",
            "The square of 148 is 21904\n",
            "The square of 150 is 22500\n",
            "The square of 152 is 23104\n",
            "The square of 154 is 23716\n",
            "The square of 156 is 24336\n",
            "The square of 158 is 24964\n",
            "The square of 160 is 25600\n",
            "The square of 162 is 26244\n",
            "The square of 164 is 26896\n",
            "The square of 166 is 27556\n",
            "The square of 168 is 28224\n",
            "The square of 170 is 28900\n",
            "The square of 172 is 29584\n",
            "The square of 174 is 30276\n",
            "The square of 176 is 30976\n",
            "The square of 178 is 31684\n",
            "The square of 180 is 32400\n",
            "The square of 182 is 33124\n",
            "The square of 184 is 33856\n",
            "The square of 186 is 34596\n",
            "The square of 188 is 35344\n",
            "The square of 190 is 36100\n",
            "The square of 192 is 36864\n",
            "The square of 194 is 37636\n",
            "The square of 196 is 38416\n",
            "The square of 198 is 39204\n",
            "The square of 200 is 40000\n"
          ]
        }
      ]
    },
    {
      "cell_type": "markdown",
      "source": [
        "Exercise 4: Word counter\n",
        "write a program to count the number of words in a given text.\n",
        "\n",
        "example:\n",
        "\n",
        "input_text = \"This is a sample text. This text will be used to demonstrate the word counter.\"\n",
        "\n",
        "Expected output:\n",
        "\n",
        "'This': 2\n",
        "\n",
        "'is': 1\n",
        "\n",
        "'a': 1\n",
        "\n",
        "'sample': 1\n",
        "\n",
        "'text.': 1"
      ],
      "metadata": {
        "id": "Cqw8iLsvqm-X"
      }
    },
    {
      "cell_type": "code",
      "source": [
        "def count_words(text):\n",
        "    \"\"\"Count the number of occurrences of each word in the given text.\n",
        "\n",
        "    Args:\n",
        "        text (str): The input text to analyze.\n",
        "\n",
        "    Returns:\n",
        "        dict: A dictionary with words as keys and their counts as values.\n",
        "    \"\"\"\n",
        "    # Remove punctuation and convert text to lowercase for case-insensitive counting\n",
        "    text = text.lower()\n",
        "\n",
        "    # Replace punctuation with spaces\n",
        "    for char in '.,!?;:()[]{}\"\\'\\/-':\n",
        "        text = text.replace(char, \" \")\n",
        "\n",
        "    # Split the text into words\n",
        "    words = text.split()\n",
        "\n",
        "    # Initialize an empty dictionary to store word counts\n",
        "    word_count = {}\n",
        "\n",
        "    # Count the occurrences of each word\n",
        "    for word in words:\n",
        "        if word in word_count:\n",
        "            word_count[word] += 1\n",
        "        else:\n",
        "            word_count[word] = 1\n",
        "\n",
        "    return word_count\n",
        "\n",
        "def print_word_counts(word_count):\n",
        "    \"\"\"Print the word counts in the desired format.\n",
        "\n",
        "    Args:\n",
        "        word_count (dict): A dictionary with words as keys and their counts as values.\n",
        "    \"\"\"\n",
        "    for word, count in word_count.items():\n",
        "        print(f\"'{word}': {count}\")\n",
        "\n",
        "def main():\n",
        "    # Example input text\n",
        "    input_text = \"This is a sample text. This text will be used to demonstrate the word counter.\"\n",
        "\n",
        "    # Get the word counts\n",
        "    word_count = count_words(input_text)\n",
        "\n",
        "    # Print the word counts\n",
        "    print_word_counts(word_count)\n",
        "\n",
        "if __name__ == \"__main__\":\n",
        "    main()"
      ],
      "metadata": {
        "colab": {
          "base_uri": "https://localhost:8080/"
        },
        "id": "Mt-Q1xcRqrI_",
        "outputId": "a278d23c-5494-4d13-ab88-3d4004d5870f"
      },
      "execution_count": 4,
      "outputs": [
        {
          "output_type": "stream",
          "name": "stdout",
          "text": [
            "'this': 2\n",
            "'is': 1\n",
            "'a': 1\n",
            "'sample': 1\n",
            "'text': 2\n",
            "'will': 1\n",
            "'be': 1\n",
            "'used': 1\n",
            "'to': 1\n",
            "'demonstrate': 1\n",
            "'the': 1\n",
            "'word': 1\n",
            "'counter': 1\n"
          ]
        }
      ]
    },
    {
      "cell_type": "markdown",
      "source": [
        "Exercise 5: Check for Palindrome\n",
        "Write a Python function called is_palindrome that takes a string as input and returns True if the string is a palindrome, and False otherwise. A palindrome is a word, phrase, number, or other sequence of characters that reads the same forward and backward, ignoring spaces, punctuation, and capitalization.\n",
        "\n",
        "Example:\n",
        "\n",
        "Input: \"racecar\"\n",
        "\n",
        "Expected Output: True\n",
        "\n",
        "To determine if a string is a palindrome, we need to:\n",
        "\n",
        "Normalize the string by converting it to lowercase and removing spaces and punctuation.\n",
        "\n",
        "Check if the normalized string reads the same forward and backward."
      ],
      "metadata": {
        "id": "SntDqeHmrGav"
      }
    },
    {
      "cell_type": "code",
      "source": [
        "\n",
        "import re\n",
        "\n",
        "def is_palindrome(s):\n",
        "    \"\"\"Check if the input string is a palindrome.\n",
        "\n",
        "    Args:\n",
        "        s (str): The input string to check.\n",
        "\n",
        "    Returns:\n",
        "        bool: True if the string is a palindrome, False otherwise.\n",
        "    \"\"\"\n",
        "    # Normalize the string: remove non-alphanumeric characters and convert to lowercase\n",
        "    normalized_str = re.sub(r'[^A-Za-z0-9]', '', s).lower()\n",
        "\n",
        "    # Check if the normalized string is the same forwards and backwards\n",
        "    return normalized_str == normalized_str[::-1]\n",
        "\n",
        "# Example usage\n",
        "input_str = \"racecar\"\n",
        "print(f\"Is '{input_str}' a palindrome? {is_palindrome(input_str)}\")\n",
        "\n",
        "input_str = \"A man, a plan, a canal, Panama!\"\n",
        "print(f\"Is '{input_str}' a palindrome? {is_palindrome(input_str)}\")\n",
        ""
      ],
      "metadata": {
        "colab": {
          "base_uri": "https://localhost:8080/"
        },
        "id": "TrLPqVBqrAC-",
        "outputId": "f849616e-a5cc-47f3-8ef8-f64eaa386a34"
      },
      "execution_count": 5,
      "outputs": [
        {
          "output_type": "stream",
          "name": "stdout",
          "text": [
            "Is 'racecar' a palindrome? True\n",
            "Is 'A man, a plan, a canal, Panama!' a palindrome? True\n"
          ]
        }
      ]
    },
    {
      "cell_type": "code",
      "source": [],
      "metadata": {
        "id": "jPxJeLLkrNl3"
      },
      "execution_count": null,
      "outputs": []
    }
  ]
}